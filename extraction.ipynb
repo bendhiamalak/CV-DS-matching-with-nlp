{
 "cells": [
  {
   "cell_type": "code",
   "execution_count": 1,
   "metadata": {},
   "outputs": [],
   "source": [
    "import pdfplumber\n",
    "import re\n",
    "import csv"
   ]
  },
  {
   "cell_type": "code",
   "execution_count": 2,
   "metadata": {},
   "outputs": [],
   "source": [
    "def ExtractTextFromPdf(path):\n",
    "    with pdfplumber.open(path) as pdf:\n",
    "        text=\"\"\n",
    "        for page in pdf.pages:\n",
    "            text += page.extract_text()\n",
    "    return text\n"
   ]
  },
  {
   "cell_type": "code",
   "execution_count": 3,
   "metadata": {},
   "outputs": [],
   "source": [
    "def extract_sections(cv_text):\n",
    "    sections = {\n",
    "        \"Profile\": \"\",\n",
    "        \"Education\": \"\",\n",
    "        \"Experience\": \"\",\n",
    "        \"Projects\": \"\"\n",
    "    }\n",
    "    \n",
    "    \n",
    "    patterns = {\n",
    "        \"Profile\": r\"(Profile|Summary|About Me)\\s*.*?(?=\\n[A-Z]+\\n|Education|Experience|Projects|$)\",\n",
    "    \"Education\": r\"(Education)\\s*.*?(?=\\n[A-Z]+\\n|Experience|Projects|$)\",\n",
    "    \"Experience\": r\"(Experience|Work History|Professional Experience)\\s*.*?(?=\\n[A-Z]+\\n|Projects|Education|$)\",\n",
    "    \"Projects\": r\"(Projects|Key Projects)\\s*.*?(?=\\n[A-Z]+\\n|Education|Experience|$)\"\n",
    "\n",
    "    }\n",
    "    \n",
    "    for section, pattern in patterns.items():\n",
    "        match = re.search(pattern, cv_text, re.IGNORECASE | re.DOTALL)\n",
    "        if match:\n",
    "            sections[section] = match.group(0).strip()\n",
    "    \n",
    "    return sections"
   ]
  },
  {
   "cell_type": "code",
   "execution_count": 4,
   "metadata": {},
   "outputs": [],
   "source": [
    "def save_to_csv(data, csv_path):\n",
    "    fieldnames = [\"Profile\", \"Education\", \"Experience\", \"Projects\"]\n",
    "    with open(csv_path, mode='w', newline='', encoding='utf-8') as file:\n",
    "        writer = csv.DictWriter(file, fieldnames=fieldnames)\n",
    "        writer.writeheader()\n",
    "        writer.writerows(data)"
   ]
  },
  {
   "cell_type": "code",
   "execution_count": 5,
   "metadata": {},
   "outputs": [
    {
     "name": "stdout",
     "output_type": "stream",
     "text": [
      "{'Profile': 'PROFILE\\nAs a first-year Software Engineering student, I am eager to apply and expand my skills in a dynamic\\nenvironment.\\nI am seeking a summer internship opportunity that will allow me to contribute to innovative', 'Education': 'EDUCATION\\nSoftware Engineer’s degree Faculty of Sciences of Bizerte (FSB) 2023-Present\\n• Principal coursework: Algorithm design, Computer security, Software Testing, JEE, Web Services, AI, ML,\\nVirtualization, UI/UX, Python ,linux\\nDegree in Pre-engineering Cycle Faculty of Sciences of Bizerte (FSB) 2021-2023\\n• Principal coursework: Data structures, Algorithm, OOP, Database, UML\\nMathematics Tunisian Baccalaureate Mahmoud Messaidi High School ,Nabeul (LMMN) 2021\\n• With high honors\\nPROFESSIONAL', 'Experience': 'experience.', 'Projects': 'projects while also\\ngaining hands-on'}\n"
     ]
    }
   ],
   "source": [
    "cvText=ExtractTextFromPdf(\"D:/Downloads/MalekBenDhia.pdf\")\n",
    "#print(cvText)\n",
    "sections = extract_sections(cvText)\n",
    "csv_path = 'D:/Downloads/resume_sections.csv'\n",
    "print(sections)\n",
    "save_to_csv([sections], csv_path)"
   ]
  }
 ],
 "metadata": {
  "kernelspec": {
   "display_name": "Python 3",
   "language": "python",
   "name": "python3"
  },
  "language_info": {
   "codemirror_mode": {
    "name": "ipython",
    "version": 3
   },
   "file_extension": ".py",
   "mimetype": "text/x-python",
   "name": "python",
   "nbconvert_exporter": "python",
   "pygments_lexer": "ipython3",
   "version": "3.11.5"
  }
 },
 "nbformat": 4,
 "nbformat_minor": 2
}
