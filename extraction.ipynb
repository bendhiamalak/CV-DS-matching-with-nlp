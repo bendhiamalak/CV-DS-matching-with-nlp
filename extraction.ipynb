{
 "cells": [
  {
   "cell_type": "code",
   "execution_count": 9,
   "metadata": {},
   "outputs": [],
   "source": [
    "import pdfplumber\n",
    "import re\n",
    "import csv"
   ]
  },
  {
   "cell_type": "code",
   "execution_count": 10,
   "metadata": {},
   "outputs": [],
   "source": [
    "def ExtractTextFromPdf(path):\n",
    "    with pdfplumber.open(path) as pdf:\n",
    "        text=\"\"\n",
    "        for page in pdf.pages:\n",
    "            text += page.extract_text()\n",
    "    return text\n"
   ]
  },
  {
   "cell_type": "code",
   "execution_count": 11,
   "metadata": {},
   "outputs": [],
   "source": [
    "def extract_sections(cv_text):\n",
    "    sections = {\n",
    "        \"Profile\": \"\",\n",
    "        \"Education\": \"\",\n",
    "        \"Experience\": \"\",\n",
    "        \"Projects\": \"\"\n",
    "    }\n",
    "    \n",
    "    \n",
    "    patterns = {\n",
    "        \"Profile\": r\"(Profile|Summary|About Me).*?(?=Education|Experience|Projects|$)\",\n",
    "        \"Education\": r\"(Education).*?(?=Experience|Projects|$)\",\n",
    "        \"Experience\": r\"(Experience|Work History).*?(?=Projects|Education|$)\",\n",
    "        \"Projects\": r\"(Projects|Key Projects).*?(?=Education|Experience|$)\"\n",
    "    }\n",
    "    \n",
    "    for section, pattern in patterns.items():\n",
    "        match = re.search(pattern, cv_text, re.IGNORECASE | re.DOTALL)\n",
    "        if match:\n",
    "            sections[section] = match.group(0).strip()\n",
    "    \n",
    "    return sections"
   ]
  },
  {
   "cell_type": "code",
   "execution_count": 12,
   "metadata": {},
   "outputs": [],
   "source": [
    "def save_to_csv(data, csv_path):\n",
    "    fieldnames = [\"Profile\", \"Education\", \"Experience\", \"Projects\"]\n",
    "    with open(csv_path, mode='w', newline='', encoding='utf-8') as file:\n",
    "        writer = csv.DictWriter(file, fieldnames=fieldnames)\n",
    "        writer.writeheader()\n",
    "        writer.writerows(data)"
   ]
  },
  {
   "cell_type": "code",
   "execution_count": 13,
   "metadata": {},
   "outputs": [
    {
     "name": "stdout",
     "output_type": "stream",
     "text": [
      "Malek Ben Dhia\n",
      "IT Engineering student seeking for summer\n",
      "internship.\n",
      "+216 25 368 668 malek.bendhia0@gmail.com Nabeul, Tunisia\n",
      "LinkedIn\\MalakBenDhia\n",
      "gitHub\\bendhiamalak\n",
      "PROFILE\n",
      "As a first-year Software Engineering student, I am eager to apply and expand my skills in a dynamic\n",
      "environment.\n",
      "I am seeking a summer internship opportunity that will allow me to contribute to innovative projects while also\n",
      "gaining hands-on experience.\n",
      "EDUCATION\n",
      "Software Engineer’s degree Faculty of Sciences of Bizerte (FSB) 2023-Present\n",
      "• Principal coursework: Algorithm design, Computer security, Software Testing, JEE, Web Services, AI, ML,\n",
      "Virtualization, UI/UX, Python ,linux\n",
      "Degree in Pre-engineering Cycle Faculty of Sciences of Bizerte (FSB) 2021-2023\n",
      "• Principal coursework: Data structures, Algorithm, OOP, Database, UML\n",
      "Mathematics Tunisian Baccalaureate Mahmoud Messaidi High School ,Nabeul (LMMN) 2021\n",
      "• With high honors\n",
      "PROFESSIONAL EXPERIENCE\n",
      "Mobile development, Intern, Systematic software solution Hammamet, Tunisia 06/2022 - 07/2022\n",
      "• Developed a simple client management mobile application using C# and Xamarin\n",
      "• Acquainted with the professional work environment.\n",
      "PROJECTS\n",
      "Realtime Chat App Present\n",
      "• Used MERN(React ,Node.js ,MongoDB) technologies to develop Realtime chat application.\n",
      "Popcorn (Academic project) 05/2023\n",
      "• Implemented desktop application for streaming films and series and managing users and films using Java and JavaFX\n",
      "for the application interfaces.\n",
      "Bibliotek (Academic project) 12/2022\n",
      "• Developed a library management application (Book management, user registrations, and return date notifications) using\n",
      "Java.\n",
      "Auto-ecole, Python (Academic project) 2022\n",
      "• Developed an application for managing users, vehicles, and sessions.\n",
      "• Stored data in JSON format.\n",
      "Process Management, C (Academic project) 2022\n",
      "• Implemented FIFO and RoundRobin algorithms.\n",
      "• Simulated process management in an operating system\n",
      "VOLUNTEERING\n",
      "Logistic Lead of Google Developer Student Clubs (GDSC), FSB 2024\n",
      "• Organized over 30 workshops spanning diverse fields such as AI, web development, and cloud computing.Additionally,\n",
      "supervised the smooth operation of operations, coordinated with vendors, and supervised the setup and teardown of event\n"
     ]
    }
   ],
   "source": [
    "cvText=ExtractTextFromPdf(\"D:/Downloads/MalekBenDhia.pdf\")\n",
    "print(cvText)\n",
    "sections = extract_sections(cvText)\n",
    "csv_path = 'D:/Downloads/resume_sections.csv'\n",
    "save_to_csv([sections], csv_path)"
   ]
  }
 ],
 "metadata": {
  "kernelspec": {
   "display_name": "Python 3",
   "language": "python",
   "name": "python3"
  },
  "language_info": {
   "codemirror_mode": {
    "name": "ipython",
    "version": 3
   },
   "file_extension": ".py",
   "mimetype": "text/x-python",
   "name": "python",
   "nbconvert_exporter": "python",
   "pygments_lexer": "ipython3",
   "version": "3.11.5"
  }
 },
 "nbformat": 4,
 "nbformat_minor": 2
}
